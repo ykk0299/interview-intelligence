{
 "cells": [
  {
   "cell_type": "code",
   "execution_count": null,
   "id": "059937c2",
   "metadata": {},
   "outputs": [],
   "source": [
    "import requests\n",
    "from bs4 import BeautifulSoup\n",
    "\n",
    "# Replace this URL with the one you want to scrape\n",
    "url = 'https://imarticus.org/skillenza/challenge/imarticus-datascience-hackathon-level2-oct2023/checkpoint/leaderboard/7303' \n",
    "\n",
    "# Send a GET request to the URL\n",
    "response = requests.get(url)\n",
    "\n",
    "# Check if the request was successful\n",
    "if response.status_code == 200:\n",
    "    # Parse the page content\n",
    "    soup = BeautifulSoup(response.text, 'html.parser')\n",
    "\n",
    "    # Find the table on the webpage (you might need to inspect the webpage to find the table's attributes)\n",
    "    table = soup.find('table')\n",
    "\n",
    "    # Extract data from the table\n",
    "    if table:\n",
    "        rows = table.find_all('tr')\n",
    "        for row in rows:\n",
    "            # Extract the data from each row\n",
    "            cols = row.find_all('td')\n",
    "            for col in cols:\n",
    "                print(col.text)\n",
    "    else:\n",
    "        print(\"No table found on the webpage.\")\n",
    "\n",
    "else:\n",
    "    print(f\"Failed to retrieve the webpage. Status code: {response.status_code}\")\n"
   ]
  }
 ],
 "metadata": {
  "kernelspec": {
   "display_name": "Python 3 (ipykernel)",
   "language": "python",
   "name": "python3"
  },
  "language_info": {
   "codemirror_mode": {
    "name": "ipython",
    "version": 3
   },
   "file_extension": ".py",
   "mimetype": "text/x-python",
   "name": "python",
   "nbconvert_exporter": "python",
   "pygments_lexer": "ipython3",
   "version": "3.10.9"
  }
 },
 "nbformat": 4,
 "nbformat_minor": 5
}
